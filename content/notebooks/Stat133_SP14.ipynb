{
 "metadata": {
  "name": "",
  "signature": "sha256:59d35ddb7fe635664d39756fd9061c61fb3b67adcf5fe020c1276e1fd5b6fbb1"
 },
 "nbformat": 3,
 "nbformat_minor": 0,
 "worksheets": [
  {
   "cells": [
    {
     "cell_type": "heading",
     "level": 1,
     "metadata": {},
     "source": [
      "Course Info"
     ]
    },
    {
     "cell_type": "markdown",
     "metadata": {},
     "source": [
      "* **Instructor:** [Benoit Dherin](http://www.stat.berkeley.edu/~bdherin/)\n",
      "\n",
      "\n",
      "* **Graduate Student Instructor:** [Jarrod Millman](http://www.jarrodmillman.com/)\n",
      "\n",
      "\n",
      "* **Start Date:**  Tuesday, January 21\n",
      "\n",
      "\n",
      "* **Lectures:** Tuesdays and Thursdays from 9:30 to 11 pm in **Evans 60**\n",
      "\n",
      "\n",
      "* **CNN:**  [87462](http://osoc.berkeley.edu/OSOC/osoc?p_ccn=87462&p_term=SP)\n",
      "\n",
      "\n",
      "* **Prerequisites:**  Familiarity with basic concepts in probability and statistics is important. Being comfortable with matrices, vectors, basic set theory, functions, and graphs will also help. There is no prerequisite for programming: we will learn how to program with data from scratch!\n",
      "\n",
      "\n",
      "\n",
      "\n",
      "\n",
      "* **Grading Policies:** 25% midterm, 25% final exam, 20% labs,  and  30% project. \n",
      "\n",
      "\n",
      "* **Course Policies:** There will be no makeup midterm nor final exam. No late homework will be accepted. Grades of Incomplete will be granted only for dire medical or personal emergencies that cause you to miss the final, and only if your work up to that point has been satisfactory.\n",
      "\n",
      "\n",
      "* **Academic Honesty:** Cheating cases will result in an immediate failing grade for the class and will be reported to the University Center for Student Conduct.  Please read the following Honor Code carefully. \n",
      "\n",
      "\n",
      "\n",
      "* **Textbooks:** \n",
      "    * [Learn Python The Hard Way, 3rd](http://learnpythonthehardway.org/book/) by Zed. A. Shaw\n",
      "    * [Concept in Computing with Data](http://www.stat.berkeley.edu/users/spector/s133/schedule.html) by Phil Spector\n",
      "    \n",
      "    "
     ]
    },
    {
     "cell_type": "code",
     "collapsed": false,
     "input": [
      "greetings='In this lecture\\nWe will use\\nThe iPython notebook'\n",
      "print greetings"
     ],
     "language": "python",
     "metadata": {},
     "outputs": [
      {
       "output_type": "stream",
       "stream": "stdout",
       "text": [
        "In this lecture\n",
        "We will use\n",
        "The iPython notebook\n"
       ]
      }
     ],
     "prompt_number": 1
    },
    {
     "cell_type": "heading",
     "level": 2,
     "metadata": {},
     "source": [
      "Ressources"
     ]
    },
    {
     "cell_type": "markdown",
     "metadata": {},
     "source": [
      "### Class required software\n",
      "\n",
      "* [OskiBox Instructions](https://docs.google.com/document/d/1ybM5k73-b38dvYDbr8QX01l15SNgfysdS7wDmlQDBcY/pub) for downloading and installing on your own computer a virtual linux machine with all the programs needed for the class in it. (The same machine as you have in the cloud).\n",
      "* [Cloud computing setup instructions](https://docs.google.com/document/d/14VhcyR_ii19-jnJwUjvOeJe26OJSVZpCjGrsiBnSBxA/pub)\n",
      "\n",
      "* [Other software setup instruction](http://berkeley-stat133.github.io/pages/software.html)"
     ]
    },
    {
     "cell_type": "markdown",
     "metadata": {},
     "source": [
      "###Online Books\n",
      "\n",
      "* [Classic Shell Scripting](http://proquest.safaribooksonline.com/book/operating-systems-and-server-administration/unix/0596005954), by Arnold Robbins and Nelson H. F. Beebe, O'Reilly (2005)\n",
      "* [Learning SQL](http://proquest.safaribooksonline.com/book/databases/sql/9780596801847), 2nd Edition, by Alan Beaulieu, O'Reilly (2009)\n",
      "* [A Primer on Scientific Programming with Python](http://link.springer.com/book/10.1007/978-3-642-18366-9/page/1), by Hans Petter Langtangen, Springer (2011)\n",
      "* [Python for Data Analysis](http://proquest.safaribooksonline.com/book/programming/python/9781449323592), by Wes McKinney, Springer (2012)\n",
      "* [Stat 133 lecture notes](http://www.stat.berkeley.edu/classes/s133/all2011.pdf) by Phil Spector\n",
      "* [Pro Data Visualization using R and JavaScript](http://link.springer.com/book/10.1007/978-1-4302-5807-0/page/1), by Tom Barker, Apress (2011)\n",
      "\n",
      "that you can access freely from campus through:\n",
      "\n",
      "* [eBook collections form the UC library](http://www.lib.berkeley.edu/find/types/books.html)\n",
      "* [ebrary](http://site.ebrary.com/lib/berkeley/home.action)\n",
      "* [Safari Book Online](http://proquest.safaribooksonline.com/)\n",
      "* [Springer Book Online](http://link.springer.com/search?facet-content-type=%22Book%22)\n",
      "\n",
      "See [here](http://www.lib.berkeley.edu/Help/connecting_off_campus.html#ucb) for a guideline on how to set up a remote connection.\n",
      "\n",
      "###Online video lectures\n",
      "\n",
      "* [Coursera: Statistics: Making Sense of Data](https://class.coursera.org/introstats-001/class/index) (The R tutorial part of the video lecture.)\n",
      "* [Codecademy: Python tutorial](http://www.codecademy.com/tracks/python)\n",
      "* [Google's Python Class](https://developers.google.com/edu/python/)\n",
      "* [Interactive vi tutorial](http://www.openvim.com/tutorial.html)\n",
      "* [Practical Unix](http://openclassroom.stanford.edu/MainFolder/CoursePage.php?course=PracticalUnix) by Sam King and Emin Topalovic\n",
      "\n",
      "\n",
      "\n"
     ]
    },
    {
     "cell_type": "heading",
     "level": 2,
     "metadata": {},
     "source": [
      "Exams"
     ]
    },
    {
     "cell_type": "markdown",
     "metadata": {},
     "source": [
      "* **Midterm:** Tuesday, March 4, during lecture time:\n",
      "    * **If the first letter of your last name is in the range A-K** go to [212 Wheeler Hall](http://ets.berkeley.edu/computer-facilities/hmf) \n",
      "    * **If the first letter of your last name is in the range L-Z** go to [1535 Tolman Hall](http://ets.berkeley.edu/computer-facilities/tmf)\n",
      "    * You'll find [here](http://nbviewer.ipython.org/urls/db.tt/GTHiVSze?create=1) a guideline for the midterm preparation. \n",
      "\n",
      "\n",
      "* **[Final Exam](http://statistics.berkeley.edu/courses/spring-2014/spring-2014-stat-133-002-lec):**  Wednesday, May 14 from 11:30 pm to 2:30 pm\n",
      "    * **If the first letter of your last name is in the range A-K** go to [212 Wheeler Hall](http://ets.berkeley.edu/computer-facilities/hmf)\n",
      "    * **If the first letter of your last name is in the range L-Z** go to [1535 Tolman Hall](http://ets.berkeley.edu/computer-facilities/tmf)"
     ]
    },
    {
     "cell_type": "heading",
     "level": 1,
     "metadata": {},
     "source": [
      "Syllabus"
     ]
    },
    {
     "cell_type": "markdown",
     "metadata": {},
     "source": [
      "The course will be organized around 5 concepts:\n",
      "\n",
      "* Concept 1: **Programming** with data (structures in data and code, data munging)\n",
      "* Concept 2: **Computing** with data (vectors, matrices, series, and dataframes)\n",
      "* Concept 3: **Visualizing** data (pie chart, box plots, etc. and [more artistic representations](https://github.com/mbostock/d3/wiki/Gallery))\n",
      "* Concept 4: **Analyzing** data (getting insight from data through statistical analysis and learning algorithms)\n",
      "* Concept 5: **Collaborating** around data (through a team class project)\n",
      "\n",
      "\n",
      "Here are the technologies and computing tools you will learn in this course:\n",
      "\n",
      "* **The Unix operating system for data processing**\n",
      "* **The Python ecosystem for scientific computing**\n",
      "* **The R programming language for statistical analysis and visualization**\n",
      "\n",
      "\n",
      "If time permits, we will also explore:\n",
      "\n",
      "* **The D3 framework for rich data visualization**\n",
      "* **The SQL query language for storing and accessing data from SQL databases**\n",
      "* **Control version systems with git and github**\n",
      "\n",
      "\n",
      "This course has three main goals:\n",
      "\n",
      "\n",
      "* **Learning popular data mining technologies** used by the industry in your neighborhood ;)\n",
      "* **Learning statistical analysis with R** for your studies here at the stat department and beyond\n",
      "* **Getting experience in working collaboratively** around data mining projects and creating a portfolio for future job hunt"
     ]
    }
   ],
   "metadata": {}
  }
 ]
}